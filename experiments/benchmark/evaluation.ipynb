{
 "cells": [
  {
   "cell_type": "markdown",
   "metadata": {},
   "source": [
    "# Evaluation"
   ]
  },
  {
   "cell_type": "code",
   "execution_count": 1,
   "metadata": {},
   "outputs": [],
   "source": [
    "import torch\n",
    "import matplotlib.pyplot as plt\n",
    "from scipy.stats import pearsonr\n",
    "from src import utils\n",
    "import pickle\n",
    "import pandas as pd\n",
    "import numpy as np\n",
    "import seaborn as sns\n",
    "import os\n",
    "\n",
    "plt.rcParams.update({'font.size': 8})"
   ]
  },
  {
   "cell_type": "code",
   "execution_count": 2,
   "metadata": {},
   "outputs": [],
   "source": [
    "intensity_scales = [50, 100, 200, 300]\n",
    "resolutions = [2, 5, 10, 20, 30, 40, 50]"
   ]
  },
  {
   "cell_type": "markdown",
   "metadata": {},
   "source": [
    "## FISHFactor"
   ]
  },
  {
   "cell_type": "code",
   "execution_count": 3,
   "metadata": {},
   "outputs": [],
   "source": [
    "df_list = []\n",
    "\n",
    "for intensity_scale in intensity_scales:\n",
    "    for cell in range(20):\n",
    "        data = torch.load('data/intensity_scale_{}/cell_{}.pkl'.format(intensity_scale, cell))\n",
    "        results = pickle.load(open('results/fishfactor/intensity_scale_{}/cell_{}/final/latents.pkl'.format(intensity_scale, cell), 'rb'))\n",
    "\n",
    "        z_inferred = results['z'][0]\n",
    "        z_inferred = torch.nan_to_num(z_inferred, 0)\n",
    "        z_inferred /= z_inferred.flatten(start_dim=1).max(dim=-1)[0].view(data['n_factors'], 1, 1)\n",
    "        z_data = data['z'][0]\n",
    "\n",
    "        w_inferred = results['w']\n",
    "        w_inferred /= w_inferred.max(dim=0)[0].view(1, data['n_factors'])\n",
    "        w_data = data['w'][0]\n",
    "\n",
    "        inds, _ = utils.optimal_assignment(z_data, z_inferred, 0)\n",
    "\n",
    "        z_inferred = z_inferred[inds]\n",
    "        w_inferred = w_inferred[:, inds]\n",
    "        \n",
    "\n",
    "        w_corr = pearsonr(w_data.flatten(), w_inferred.flatten())[0]\n",
    "        z_corr = pearsonr(z_data.flatten(), z_inferred.flatten())[0]\n",
    "\n",
    "        df_list.append(pd.DataFrame({\n",
    "            'intensity_scale' : intensity_scale,\n",
    "            'cell' : cell,\n",
    "            'w_corr' : w_corr,\n",
    "            'z_corr' : z_corr,\n",
    "            'avg_n_molecules_gene' : data['coordinates'].shape[0] / data['n_genes'],\n",
    "            'model' : 'FISHFactor',\n",
    "            'resolution' : 70, # pseudo value\n",
    "        }, index=[0]))\n",
    "\n",
    "fishfactor_evaluation = pd.concat(df_list).reset_index(drop=True)"
   ]
  },
  {
   "cell_type": "markdown",
   "metadata": {},
   "source": [
    "## NMF"
   ]
  },
  {
   "cell_type": "code",
   "execution_count": 4,
   "metadata": {},
   "outputs": [
    {
     "name": "stderr",
     "output_type": "stream",
     "text": [
      "/data/florin/miniconda3/envs/env/lib/python3.9/site-packages/scipy/stats/stats.py:4023: PearsonRConstantInputWarning: An input array is constant; the correlation coefficient is not defined.\n",
      "  warnings.warn(PearsonRConstantInputWarning())\n"
     ]
    }
   ],
   "source": [
    "df_list = []\n",
    "\n",
    "for intensity_scale in intensity_scales:\n",
    "    for cell in range(20):\n",
    "        for resolution in resolutions:\n",
    "            data = torch.load('data/intensity_scale_{}/cell_{}.pkl'.format(intensity_scale, cell))\n",
    "            results = torch.load('results/nmf/intensity_scale_{}/cell_{}/resolution_{}.pkl'.format(intensity_scale, cell, resolution))\n",
    "\n",
    "            z_inferred = results['z']\n",
    "            z_inferred /= z_inferred.flatten(start_dim=1).max(dim=-1)[0].view(data['n_factors'], 1, 1)\n",
    "            z_inferred = torch.nan_to_num(z_inferred, 0)\n",
    "            z_data = data['z'][0]\n",
    "\n",
    "            w_inferred = results['w']\n",
    "            w_inferred /= np.clip(a=w_inferred.max(axis=0).reshape(1, data['n_factors']), a_min=0.001, a_max=1e4)\n",
    "            w_inferred = np.nan_to_num(w_inferred, 0)\n",
    "            w_data = data['w'][0]\n",
    "\n",
    "            inds, _ = utils.optimal_assignment(z_data, z_inferred, 0)\n",
    "\n",
    "            z_inferred = z_inferred[inds]\n",
    "            w_inferred = w_inferred[:, inds]\n",
    "            \n",
    "            w_corr = pearsonr(w_data.flatten(), w_inferred.flatten())[0]\n",
    "            z_corr = pearsonr(z_data.flatten(), z_inferred.flatten())[0]\n",
    "\n",
    "            df_list.append(pd.DataFrame({\n",
    "                'resolution' : resolution,\n",
    "                'intensity_scale' : intensity_scale,\n",
    "                'cell' : cell,\n",
    "                'w_corr' : w_corr,\n",
    "                'z_corr' : z_corr,\n",
    "                'avg_n_molecules_gene' : data['coordinates'].shape[0] / data['n_genes'],\n",
    "                'model' : 'NMF'\n",
    "            }, index=[0]))\n",
    "\n",
    "nmf_evaluation = pd.concat(df_list).reset_index(drop=True)"
   ]
  },
  {
   "cell_type": "markdown",
   "metadata": {},
   "source": [
    "## NSF"
   ]
  },
  {
   "cell_type": "code",
   "execution_count": 5,
   "metadata": {},
   "outputs": [],
   "source": [
    "df_list = []\n",
    "\n",
    "for intensity_scale in intensity_scales:\n",
    "    for cell in range(20):\n",
    "        for resolution in resolutions:\n",
    "            if not os.path.isfile('results/nsf/intensity_scale_{}/cell_{}/resolution_{}.pkl'.format(intensity_scale, cell, resolution)):\n",
    "                continue\n",
    "            data = torch.load('data/intensity_scale_{}/cell_{}.pkl'.format(intensity_scale, cell))\n",
    "            results = pickle.load(open('results/nsf/intensity_scale_{}/cell_{}/resolution_{}.pkl'.format(intensity_scale, cell, resolution), 'rb'))\n",
    "            z_inferred = results['z']\n",
    "            z_inferred /= z_inferred.flatten(start_dim=1).max(dim=-1)[0].view(data['n_factors'], 1, 1)\n",
    "            z_inferred = torch.nan_to_num(z_inferred, 0)\n",
    "            z_data = data['z'][0]\n",
    "\n",
    "            w_inferred = results['w']\n",
    "            w_inferred /= np.clip(a=w_inferred.max(axis=0).reshape(1, data['n_factors']), a_min=0.001, a_max=1e4)\n",
    "            w_inferred = np.nan_to_num(w_inferred, 0)\n",
    "            w_data = data['w'][0]\n",
    "\n",
    "            inds, _ = utils.optimal_assignment(z_data, z_inferred, 0)\n",
    "\n",
    "            z_inferred = z_inferred[inds]\n",
    "            w_inferred = w_inferred[:, inds]\n",
    "            \n",
    "            w_corr = pearsonr(w_data.flatten(), w_inferred.flatten())[0]\n",
    "            z_corr = pearsonr(z_data.flatten(), z_inferred.flatten())[0]\n",
    "\n",
    "            df_list.append(pd.DataFrame({\n",
    "                'resolution' : resolution,\n",
    "                'intensity_scale' : intensity_scale,\n",
    "                'cell' : cell,\n",
    "                'w_corr' : w_corr,\n",
    "                'z_corr' : z_corr,\n",
    "                'avg_n_molecules_gene' : data['coordinates'].shape[0] / data['n_genes'],\n",
    "                'model' : 'NSF',\n",
    "            }, index=[0]))\n",
    "\n",
    "nsf_evaluation = pd.concat(df_list).reset_index(drop=True)"
   ]
  },
  {
   "cell_type": "markdown",
   "metadata": {},
   "source": [
    "## Plots"
   ]
  },
  {
   "cell_type": "code",
   "execution_count": 6,
   "metadata": {},
   "outputs": [
    {
     "data": {
      "image/png": "[encoded data removed]",
      "text/plain": [
       "<Figure size 1080x432 with 8 Axes>"
      ]
     },
     "metadata": {
      "needs_background": "light"
     },
     "output_type": "display_data"
    }
   ],
   "source": [
    "n_molecules = []\n",
    "\n",
    "for intensity_scale in intensity_scales:\n",
    "    for cell in range(20):\n",
    "        data = torch.load('data/intensity_scale_{}/cell_{}.pkl'.format(intensity_scale, cell))\n",
    "        for gene in range(data['n_genes']):\n",
    "            n_molecules.append(pd.DataFrame({\n",
    "                'intensity_scale' : intensity_scale,\n",
    "                'cell' : cell,\n",
    "                'gene' : gene,\n",
    "                'counts' : data['coordinates'][data['coordinates'].gene==gene].shape[0]\n",
    "            }, index=[0]))\n",
    "\n",
    "n_molecules = pd.concat(n_molecules)\n",
    "\n",
    "fig, axs = plt.subplots(2, 4, figsize=(15, 6), sharey=False, sharex=True)\n",
    "\n",
    "for i, latent in enumerate(['w_corr', 'z_corr']):\n",
    "    for j, intensity_scale in enumerate(intensity_scales):\n",
    "        ax = axs[i, j]\n",
    "        ax.grid()\n",
    "        fishfactor_evaluation_subset = fishfactor_evaluation.query('intensity_scale=={}'.format(intensity_scale))\n",
    "        nmf_evaluation_subset = nmf_evaluation.query('intensity_scale=={}'.format(intensity_scale))\n",
    "        nsf_evaluation_subset = nsf_evaluation.query('intensity_scale=={}'.format(intensity_scale))\n",
    "        evaluation_subset = pd.concat([nmf_evaluation_subset, nsf_evaluation_subset, fishfactor_evaluation_subset])\n",
    "        \n",
    "        evaluation_subset[['z_corr', 'w_corr']] = evaluation_subset[['z_corr', 'w_corr']]\n",
    "\n",
    "        sns.barplot(x='resolution', y=latent, data=evaluation_subset, hue='model', ax=ax)\n",
    "        ax.set_ylim(0, [0.55, 0.9][i])\n",
    "\n",
    "        axs[i, j].set_xlabel('')\n",
    "        axs[1, j].set_xlabel('binning resolution')\n",
    "\n",
    "        axs[i, j].set_ylabel('')\n",
    "        axs[i, 0].set_ylabel('{} \\n Pearson correlation'.format(['Weights', 'Factors'][i]))\n",
    "\n",
    "        average_n_molecules = n_molecules.groupby('intensity_scale').mean().counts.values.round()\n",
    "        axs[0, j].set_title('Average # molecules per \\n gene and cell: {}'.format(int(average_n_molecules[j])))\n",
    "\n",
    "        axs[1, j].set_xticklabels(resolutions + [''])\n",
    "plt.show()"
   ]
  },
  {
   "cell_type": "code",
   "execution_count": null,
   "metadata": {},
   "outputs": [],
   "source": []
  }
 ],
 "metadata": {
  "interpreter": {
   "hash": "ad0f1aa607e61cee5ee24c9ecf4eca4f7bae7d83d49e0c6a15273b76307f37ec"
  },
  "kernelspec": {
   "display_name": "Python 3.9.7 ('env')",
   "language": "python",
   "name": "python3"
  },
  "language_info": {
   "codemirror_mode": {
    "name": "ipython",
    "version": 3
   },
   "file_extension": ".py",
   "mimetype": "text/x-python",
   "name": "python",
   "nbconvert_exporter": "python",
   "pygments_lexer": "ipython3",
   "version": "3.9.7"
  },
  "orig_nbformat": 4
 },
 "nbformat": 4,
 "nbformat_minor": 2
}
